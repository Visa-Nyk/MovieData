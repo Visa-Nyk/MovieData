{
 "cells": [
  {
   "cell_type": "code",
   "execution_count": 1,
   "id": "60f6e49e",
   "metadata": {},
   "outputs": [],
   "source": [
    "import pandas as pd\n",
    "import matplotlib.pyplot as plt\n",
    "\n",
    "%matplotlib inline"
   ]
  },
  {
   "cell_type": "code",
   "execution_count": 2,
   "id": "a440059c",
   "metadata": {},
   "outputs": [
    {
     "name": "stderr",
     "output_type": "stream",
     "text": [
      "H:\\devel\\Anaconda3_new\\lib\\site-packages\\IPython\\core\\interactiveshell.py:3165: DtypeWarning: Columns (4,5) have mixed types.Specify dtype option on import or set low_memory=False.\n",
      "  has_raised = await self.run_ast_nodes(code_ast.body, cell_name,\n"
     ]
    }
   ],
   "source": [
    "ratings = pd.read_csv(\"title.ratings.tsv.gz\", sep = \"\\t\", compression = \"gzip\")\n",
    "basics = pd.read_csv(\"title.basics.tsv.gz\", sep = \"\\t\", compression = \"gzip\")\n",
    "crew = pd.read_csv(\"title.crew.tsv.gz\", sep = \"\\t\", compression = \"gzip\")\n",
    "principals = pd.read_csv(\"title.principals.tsv.gz\", sep = \"\\t\", compression = \"gzip\")\n",
    "people = pd.read_csv(\"name.basics.tsv.gz\", sep = \"\\t\", compression = \"gzip\")"
   ]
  },
  {
   "cell_type": "code",
   "execution_count": 3,
   "id": "9ffec2eb",
   "metadata": {},
   "outputs": [
    {
     "data": {
      "text/plain": [
       "10011"
      ]
     },
     "execution_count": 3,
     "metadata": {},
     "output_type": "execute_result"
    }
   ],
   "source": [
    "freq_rated = set(ratings.loc[ratings[\"numVotes\"] >= 10_000, \"tconst\"])\n",
    "movies = set(basics.loc[basics[\"titleType\"].str.lower().str.contains(\"movie\") & (basics[\"isAdult\"] == 0), \"tconst\"])\n",
    "freq_movies = movies & freq_rated\n",
    "len(freq_movies)\n"
   ]
  },
  {
   "cell_type": "code",
   "execution_count": 4,
   "id": "63437288",
   "metadata": {},
   "outputs": [],
   "source": [
    "ratings = ratings.loc[ ratings[\"tconst\"].isin(freq_movies), : ]\n",
    "crew = crew.loc[ crew[\"tconst\"].isin(freq_movies), : ]\n",
    "basics = basics.loc[basics[\"tconst\"].isin(freq_movies), : ]\n",
    "principals = principals.loc[principals[\"tconst\"].isin(freq_movies), : ]"
   ]
  },
  {
   "cell_type": "code",
   "execution_count": 5,
   "id": "24c977e8",
   "metadata": {},
   "outputs": [],
   "source": [
    "people = people.loc[people.nconst.isin(set(principals[\"nconst\"])),:]"
   ]
  },
  {
   "cell_type": "code",
   "execution_count": 6,
   "id": "0085d4cf",
   "metadata": {},
   "outputs": [],
   "source": [
    "people.to_csv(\"people.csv.gz\", compression = \"gzip\", index = False)\n",
    "basics.to_csv(\"basics.csv.gz\", compression = \"gzip\", index = False)\n",
    "principals.to_csv(\"principals.csv.gz\", compression = \"gzip\", index = False)\n",
    "crew.to_csv(\"crew.csv.gz\", compression = \"gzip\", index = False)\n",
    "ratings.to_csv(\"ratings.csv.gz\", compression = \"gzip\", index = False)"
   ]
  },
  {
   "cell_type": "code",
   "execution_count": 7,
   "id": "db6e5ebf",
   "metadata": {},
   "outputs": [
    {
     "data": {
      "text/plain": [
       "40468"
      ]
     },
     "execution_count": 7,
     "metadata": {},
     "output_type": "execute_result"
    }
   ],
   "source": [
    "len(people)"
   ]
  },
  {
   "cell_type": "code",
   "execution_count": 13,
   "id": "25b0e7c6",
   "metadata": {},
   "outputs": [
    {
     "data": {
      "text/plain": [
       "373     tt0000574\n",
       "948     tt0001892\n",
       "1000    tt0002101\n",
       "1008    tt0002130\n",
       "1027    tt0002186\n",
       "1032    tt0002199\n",
       "1107    tt0002423\n",
       "1114    tt0002445\n",
       "1117    tt0002452\n",
       "1118    tt0002461\n",
       "Name: tconst, dtype: object"
      ]
     },
     "execution_count": 13,
     "metadata": {},
     "output_type": "execute_result"
    }
   ],
   "source": [
    "ratings[\"tconst\"].head(10)"
   ]
  },
  {
   "cell_type": "code",
   "execution_count": 20,
   "id": "839e57fc",
   "metadata": {},
   "outputs": [
    {
     "data": {
      "text/plain": [
       "3724"
      ]
     },
     "execution_count": 20,
     "metadata": {},
     "output_type": "execute_result"
    }
   ],
   "source": [
    "(ratings.numVotes >= 50_000).sum()"
   ]
  },
  {
   "cell_type": "code",
   "execution_count": null,
   "id": "b62e4899",
   "metadata": {},
   "outputs": [],
   "source": []
  },
  {
   "cell_type": "code",
   "execution_count": null,
   "id": "ce37bf55",
   "metadata": {},
   "outputs": [],
   "source": []
  },
  {
   "cell_type": "code",
   "execution_count": null,
   "id": "bd2ac08b",
   "metadata": {},
   "outputs": [],
   "source": []
  },
  {
   "cell_type": "code",
   "execution_count": null,
   "id": "a2a889c1",
   "metadata": {},
   "outputs": [],
   "source": []
  },
  {
   "cell_type": "code",
   "execution_count": null,
   "id": "5be8cd70",
   "metadata": {},
   "outputs": [],
   "source": []
  },
  {
   "cell_type": "code",
   "execution_count": null,
   "id": "8d72d83e",
   "metadata": {},
   "outputs": [],
   "source": []
  },
  {
   "cell_type": "code",
   "execution_count": null,
   "id": "286346e8",
   "metadata": {},
   "outputs": [],
   "source": []
  },
  {
   "cell_type": "code",
   "execution_count": null,
   "id": "f3396a40",
   "metadata": {},
   "outputs": [],
   "source": []
  },
  {
   "cell_type": "code",
   "execution_count": null,
   "id": "ea4262d5",
   "metadata": {},
   "outputs": [],
   "source": []
  },
  {
   "cell_type": "code",
   "execution_count": null,
   "id": "083928a8",
   "metadata": {},
   "outputs": [],
   "source": []
  },
  {
   "cell_type": "code",
   "execution_count": null,
   "id": "b3a3f372",
   "metadata": {},
   "outputs": [],
   "source": []
  },
  {
   "cell_type": "code",
   "execution_count": null,
   "id": "068460bd",
   "metadata": {},
   "outputs": [],
   "source": []
  },
  {
   "cell_type": "code",
   "execution_count": null,
   "id": "58857322",
   "metadata": {},
   "outputs": [],
   "source": []
  },
  {
   "cell_type": "code",
   "execution_count": null,
   "id": "d0aeb22a",
   "metadata": {},
   "outputs": [],
   "source": []
  },
  {
   "cell_type": "code",
   "execution_count": null,
   "id": "82c93a2f",
   "metadata": {},
   "outputs": [],
   "source": []
  },
  {
   "cell_type": "code",
   "execution_count": null,
   "id": "7ceba56f",
   "metadata": {},
   "outputs": [],
   "source": []
  },
  {
   "cell_type": "code",
   "execution_count": null,
   "id": "421cdf43",
   "metadata": {},
   "outputs": [],
   "source": []
  }
 ],
 "metadata": {
  "kernelspec": {
   "display_name": "Python 3",
   "language": "python",
   "name": "python3"
  },
  "language_info": {
   "codemirror_mode": {
    "name": "ipython",
    "version": 3
   },
   "file_extension": ".py",
   "mimetype": "text/x-python",
   "name": "python",
   "nbconvert_exporter": "python",
   "pygments_lexer": "ipython3",
   "version": "3.8.8"
  },
  "toc-showtags": true
 },
 "nbformat": 4,
 "nbformat_minor": 5
}
